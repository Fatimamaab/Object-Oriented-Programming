{
 "cells": [
  {
   "cell_type": "markdown",
   "metadata": {},
   "source": [
    "NUC - OOP - Assessment 3 <br>\n",
    "Final Term Paper 2023 <br>\n",
    "Name: Maab Fatima"
   ]
  },
  {
   "cell_type": "markdown",
   "metadata": {},
   "source": [
    "# Index\n",
    "\n",
    "- Section 1: Introduction \n",
    "- Section 2: Python\n",
    "- Section 3: Object Oriented Programming\n",
    "- Section 4: Object Oriented Programming (OOP) Basic Pillars\n",
    "- Section 5: Object Oriented Programming (OOP) Principles\n",
    "- Section 6: Object Oriented Programming Design Pattern\n",
    "- Section 7: Scenario\n",
    "- Section 8: Abstract Summary\n",
    "- Section 9: Import Library\n",
    "- Section 10: Design Question 1 : Dynamic Dataset Management\n",
    "- Section 11: Factory Method Pattern\n",
    "- Section 12: Structure Explanation\n",
    "- Section 13: Code Demonstration\n",
    "- Section 14: Testing the Design Pattern For 1-Dimensionl Dataset\n",
    "- Section 15: Testing the Design Pattern For 2-Dimensionl Dataset\n",
    "- Section 16: Conclusion\n",
    "- Section 17: Design Question 2 : Flexible Calculation Methods\n",
    "- Section 18: Strategy Pattern\n",
    "- Section 19: Structure Explanation\n",
    "- Section 20: Code Demonstration\n",
    "- Section 21: Testing the Design Pattern For 1-Dimensionl Dataset\n",
    "- Section 22: Testing the Design Pattern For 2-Dimensionl Dataset\n",
    "- Section 23: Conclusion\n",
    "- Section 24: Design Question 3 : Decoupled Frontend and Backend\n",
    "- Section 25: Observer Pattern\n",
    "- Section 26: Structure Explanation\n",
    "- Section 27: Code Demonstration\n",
    "- Section 28: Testing the Design Pattern For 1-Dimensionl Dataset\n",
    "- Section 29: Testing the Design Pattern For 2-Dimensionl Dataset\n",
    "- Section 30: Conclusion\n",
    "- Section 31: Design Question 4 : Customizable Branding for Client Companies\n",
    "- Section 32: Decorator Pattern\n",
    "- Section 33: Structure Explanation\n",
    "- Section 34: Code Demonstration\n",
    "- Section 35: Testing the Design Pattern For 1-Dimensionl Dataset\n",
    "- Section 36: Testing the Design Pattern For 2-Dimensionl Dataset\n",
    "- Section 37: Conclusion\n",
    "- Section 38: Calling all patterns in one Example"
   ]
  },
  {
   "cell_type": "markdown",
   "metadata": {},
   "source": [
    "### Introduction"
   ]
  },
  {
   "cell_type": "markdown",
   "metadata": {},
   "source": [
    "The objective of this report is to demonstrate the Object-Oriented Programming Pillars, Principles and Design patterns, and based on these principles and pillars, choose a design pattern which suits best according to the defined requirements of the four different design questions in order to create a prototype for ABC-Business Intelligence (BI) System."
   ]
  },
  {
   "cell_type": "markdown",
   "metadata": {},
   "source": [
    "### Python"
   ]
  },
  {
   "cell_type": "markdown",
   "metadata": {},
   "source": [
    "Python is a powerfull and flexible programming language, and i know that everything in python is an object. So for the demonstration of Object-Oriented Principles and Design Patterns, i would like to use it."
   ]
  },
  {
   "cell_type": "markdown",
   "metadata": {},
   "source": [
    "### Object Oriented Programming"
   ]
  },
  {
   "cell_type": "markdown",
   "metadata": {},
   "source": [
    "Object Oriented programming is a programming paradigm that allows me to organize the information into objects (data with different properties and behaviours) and classes that acts on these objects through different methods that are of the same object type. Object-Oriented programming consist of four basic pillars which plays an important role in developing a code that is reusable for other programs, will be open for changes and easy to maintain the working mechanism."
   ]
  },
  {
   "cell_type": "markdown",
   "metadata": {},
   "source": [
    "### Object Oriented Programming (OOP) Basic Pillars"
   ]
  },
  {
   "cell_type": "markdown",
   "metadata": {},
   "source": [
    "Abstraction:\n",
    "    Abstraction is used to hide the internal implementation about the code, so that the user can only work with the program without knowing how the program is created.\n",
    "\n",
    "Encapsulation:\n",
    "    Encapsulation works as a wrapping mechanism, binds all the manipulated data together within the class itself, so that the other classes cannot have access to the data and if the user wants to change something in the system then it can be done through the abstract methods of the concrete class.\n",
    "\n",
    "Inheritance:\n",
    "    Inheritance is an important pillar of Object-Oriented Programming because it makes the classes capable to inherit properties and behaviours from other classes. It allows the user to reuse the code which helps in data redundancy.\n",
    "\n",
    "Polymorphism:\n",
    "    Polymorphism means having multiple forms, the simplest and most usable form of polymorphism is overridden, by using this mechanism a method having the same name can behave in a different way from the inherited class. \n",
    "\n"
   ]
  },
  {
   "cell_type": "markdown",
   "metadata": {},
   "source": [
    "### Object Oriented Programming (OOP) Design Principles"
   ]
  },
  {
   "cell_type": "markdown",
   "metadata": {},
   "source": [
    "1. Identify the aspects of your code that vary and separate them from those that stay the same\n",
    "2. Program to an interface not an implementation\n",
    "3. Favour composition over inheritance\n",
    "4. Strive for loosely coupled designs between objects that interact\n",
    "5. Classes should be open for extension but closed for modification\n",
    "6. Talk only to your immediate friends (Least Knowledge)\n",
    "7. Depend on abstractions. Do not depend on concrete classes (Dependency Inversion)"
   ]
  },
  {
   "cell_type": "markdown",
   "metadata": {},
   "source": [
    "### Design Pattern"
   ]
  },
  {
   "cell_type": "markdown",
   "metadata": {},
   "source": [
    "Since the advantage of using Object-Oriented Programming is to reuse the code within different programs, to some extent it is possible but every picture has two sides, sometimes it is easy to use and sometimes there occur some issues in reusing the code again, so to overcome this problem, four software engineers presented a solution in a book \"The Gang of Four\".\n",
    "This helps the programmers to adapt a specific pattern or combination of patterns depending on the program requirements, in order to develop a code that could be reusable and interchangeable for different programs. \n",
    "    "
   ]
  },
  {
   "cell_type": "markdown",
   "metadata": {},
   "source": [
    "### Scenario"
   ]
  },
  {
   "cell_type": "markdown",
   "metadata": {},
   "source": [
    "You are a developer at ABC-BI, a company embarking on the creation of a novel Business Intelligence (BI) system. ABC-BI is committed to ensuring that its IT infrastructure is scalable and maintainable. As part of the IT team, you are tasked by the IT Director to explain to the team how Object-Oriented Design principles and patterns can facilitate the adaptability and maintainability of the new BI system. To do this, you must create a document and a supporting code prototype to demonstrate how one can address the following four design questions. "
   ]
  },
  {
   "cell_type": "markdown",
   "metadata": {},
   "source": [
    "### Abstract Summary"
   ]
  },
  {
   "cell_type": "markdown",
   "metadata": {},
   "source": [
    "Since i am working as an IT developer in a company \"ABC Business Intelligence (BI)\", whose new motive is to create an IT system that is scalable and maintainable, and for that purpose, my director wants me to explain to the other team members about how Object Oriented Design Principles and Patterns can facilitate the adaptability and maintainability of this new BI system. \n",
    "\n",
    "In the following document, i am proposing a code prototype for four different design pattern, depending on the specific needs of the design. \n",
    "\n",
    "For the Dynamic Dataset Management, I proposed a Factory Method Pattern because there will be different datasets that the system will manage. Due to its flexible and easy to maintain nature, it permits the freedom of adding new datasets, in the given context, i described it with one-dimensional and two-dimensional datasets, but if some new client want this design to work with other types of datasets, then the developer can add new classes as a concrete class which obeys the methods described in the base class, related to that specific dataset type, without making the developer to start from scrtach. \n",
    "\n",
    "For the Flexible Calculation Methods, The Strategy Pattern is come in action, as the calculations can be of different types such as mean, median, and mode. This pattern gives the flexibility of interchanging between different abstract calculation or strategies at the runtime. It also has an advantage of programming to an interface and not to the implementation, this feature can be used to specify specific rules and constraints to the specific methods, and it does not affect the system internally.\n",
    "\n",
    "For the Decoupled Frontend and Backend, I used the Observer Pattern, due to the nature of this pattern which states one (Subject) to many relationship (Objects). In the context below, i did not get into graphical user interface visualization but in the code, the Concrete Observer behaves as a Frontend Widget and Concrete Subject acts as a Backend. This pattern maintain the consistency between the related objects by making them loosely coupled.\n",
    "\n",
    "For the Customizable and Consistent Branding Elements for the BI System, Decorator Pattern supports this requirement, because the system will provide branding elements for the different companies. This pattern can add different behavioural objects without any modification in the code, because of open/closed principle.\n",
    "\n",
    "The Structure of all these four different design patterns are given below, along with code containing comments and docstrings for clarification, and examples to demonstrate the working..\n",
    "\n",
    " "
   ]
  },
  {
   "cell_type": "markdown",
   "metadata": {},
   "source": [
    "### Import Library"
   ]
  },
  {
   "cell_type": "code",
   "execution_count": 1,
   "metadata": {},
   "outputs": [],
   "source": [
    "\"\"\"Importing Librariry\"\"\"\n",
    "\n",
    "from abc import ABCMeta, abstractmethod"
   ]
  },
  {
   "cell_type": "markdown",
   "metadata": {},
   "source": [
    "## Design Question 1 : Dynamic Dataset Management"
   ]
  },
  {
   "cell_type": "markdown",
   "metadata": {},
   "source": [
    "• \"How can Object-Oriented Design Patterns and Principles be applied to effectively manage datasets, allowing for operations like adding, removing, and inspecting data elements, while also enforcing specific data rules and constraints?\""
   ]
  },
  {
   "cell_type": "markdown",
   "metadata": {},
   "source": [
    "### Factory Method Pattern"
   ]
  },
  {
   "cell_type": "markdown",
   "metadata": {},
   "source": [
    "The Factory Method Pattern is a creational design pattern which defines an interface to create instances of classes, although subclasses can change the type of instances. For the Dynamic Dataset Management, the Factory Method is suited well as it gives the right to create different objects having different behaviours."
   ]
  },
  {
   "cell_type": "markdown",
   "metadata": {},
   "source": [
    "### Structure of the Factory Method Pattern"
   ]
  },
  {
   "cell_type": "markdown",
   "metadata": {},
   "source": [
    "The structure of the Factory Method Design Pattern in the dynamic dataset management is as follows:\n",
    " \n",
    "Class Data_Set: This class acts as a base class and it encapsulates the common behaviour for the datasets. It introduces abstract methods such as \"Adding\" (which add an element to the dataset ), \"Removing\" (which removes an element to the dataset ) and \"Inspecting\" (which checks if the element is present in the dataset ), where as the implementation is hidden and these methods must instantiate in the concrete subclasses. This class plays a role in altering the implementation of the dataset without causing any damage to the rest of the code.\n",
    "\n",
    "Class Dataset_Implementation: This class is a subclass of the base class, within this method, an list is created to which the processing data could be stored, it demonstrates some specific rules and regulations that the abstract methods should obey.\n",
    "\n",
    "Class Data_Set_Factory: This is a Factory class that creates instances of the concrete class by using the method \"create()\", this method can be written again by the subclasses to create unique datasets."
   ]
  },
  {
   "cell_type": "markdown",
   "metadata": {},
   "source": [
    "### Code Demonstration"
   ]
  },
  {
   "cell_type": "code",
   "execution_count": 2,
   "metadata": {},
   "outputs": [],
   "source": [
    "######################################\n",
    "# Interface definitions\n",
    "######################################\n",
    "\n",
    "\"\"\" Applying \"\"\"\n",
    "\n",
    "\"\"\" Design Principle 1: Identify the aspects of your application that vary and separate them from what stays the same. \"\"\"\n",
    "\n",
    "\"\"\" Design Principle 2: Program to an interface, not an implementation. \"\"\"\n",
    "\n",
    "\"\"\" Design Principle 7: Depend on abstractions. Do not depend on concrete classes (Dependency Inversion)\"\"\"\n",
    "\n",
    "\n",
    "class Data_Set:\n",
    "    \n",
    "    \"\"\"Defining the abstract base classes(Interface) for the dataset\n",
    "    __metaclass__ = ABCMeta\"\"\"\n",
    "    \n",
    "    \"\"\" Abstract method means that it can change later \"\"\"\n",
    "    \n",
    "    @abstractmethod\n",
    "    def Adding(self, element):\n",
    "        \"\"\"Must be instantiated in the concrete classes\"\"\"\n",
    "        \"\"\" Adds an element to the dataset \"\"\"\n",
    "        pass\n",
    "\n",
    "    \n",
    "    @abstractmethod\n",
    "    def Removing(self, element):\n",
    "        \"\"\"Must be instantiated in the concrete classes\"\"\"\n",
    "        \"\"\" Removes an element from the dataset \"\"\"\n",
    "        pass\n",
    "    \n",
    "\n",
    "    @abstractmethod\n",
    "    def Inspecting(self, element):\n",
    "        \"\"\"Must be instantiated in the concrete classes\"\"\"\n",
    "        \"\"\" Check if the element is present in the dataset \"\"\"\n",
    "        pass"
   ]
  },
  {
   "cell_type": "code",
   "execution_count": 3,
   "metadata": {},
   "outputs": [
    {
     "name": "stdout",
     "output_type": "stream",
     "text": [
      "Help on class Data_Set in module __main__:\n",
      "\n",
      "class Data_Set(builtins.object)\n",
      " |  Defining the abstract base classes(Interface) for the dataset\n",
      " |  __metaclass__ = ABCMeta\n",
      " |  \n",
      " |  Methods defined here:\n",
      " |  \n",
      " |  Adding(self, element)\n",
      " |      Must be instantiated in the concrete classes\n",
      " |  \n",
      " |  Inspecting(self, element)\n",
      " |      Must be instantiated in the concrete classes\n",
      " |  \n",
      " |  Removing(self, element)\n",
      " |      Must be instantiated in the concrete classes\n",
      " |  \n",
      " |  ----------------------------------------------------------------------\n",
      " |  Data descriptors defined here:\n",
      " |  \n",
      " |  __dict__\n",
      " |      dictionary for instance variables (if defined)\n",
      " |  \n",
      " |  __weakref__\n",
      " |      list of weak references to the object (if defined)\n",
      "\n"
     ]
    }
   ],
   "source": [
    "help(Data_Set)"
   ]
  },
  {
   "cell_type": "code",
   "execution_count": 4,
   "metadata": {},
   "outputs": [],
   "source": [
    "\"\"\"Concrete Implementation of the Abstract Class\"\"\"\n",
    "\n",
    "class Dataset_Implementation(Data_Set):\n",
    "   # __metaclass__ = ABCMeta\n",
    "    \n",
    "    \"\"\" This class enforces specific rules and limitations \"\"\"\n",
    "    \n",
    "    # Constructor Method : Initializer\n",
    "    def __init__(self):\n",
    "        \n",
    "        \"\"\"Make an empty list to store the processed data\"\"\"\n",
    "        self.data_list = []\n",
    "\n",
    "    def Adding(self, element):\n",
    "        \n",
    "        \"\"\" This method is adding the data and checking at the same time,\n",
    "        if it in an integer then it will add the element otherwise it raises an error \"\"\"\n",
    "        \n",
    "        if isinstance(element, int):\n",
    "            self.data_list.append(element)\n",
    "        else:\n",
    "            raise TypeError(\"Data must be an integer value.\")\n",
    "\n",
    "    def Removing(self, element):\n",
    "        \n",
    "        \"\"\" This method is removing the data, if the element exist in the list then it is removed, \n",
    "        and if it does not then gives value error \"\"\"\n",
    "        \n",
    "        if element in self.data_list:\n",
    "            self.data_list.remove(element)\n",
    "        else:\n",
    "            raise ValueError(\"Data is not present in the dataset.\")\n",
    "\n",
    "    def Inspecting(self, element):\n",
    "        \n",
    "        \"\"\" Check the elements within the list, print it upon calling, \n",
    "            and return a boolean value \"\"\"\n",
    "        \n",
    "        result = element in self.data_list\n",
    "        print(element)\n",
    "        return result \n",
    "    \n",
    "       \n",
    "\"\"\" Factory Method \"\"\"\n",
    "\n",
    "class Data_Set_Factory:\n",
    "    \n",
    "    \"\"\" It creates instances of the dataset_implementation class\"\"\"\n",
    "    \n",
    "    # method\n",
    "    def create(self):\n",
    "        return Dataset_Implementation()"
   ]
  },
  {
   "cell_type": "code",
   "execution_count": 5,
   "metadata": {},
   "outputs": [
    {
     "name": "stdout",
     "output_type": "stream",
     "text": [
      "Help on class Dataset_Implementation in module __main__:\n",
      "\n",
      "class Dataset_Implementation(Data_Set)\n",
      " |  This class enforces specific rules and limitations\n",
      " |  \n",
      " |  Method resolution order:\n",
      " |      Dataset_Implementation\n",
      " |      Data_Set\n",
      " |      builtins.object\n",
      " |  \n",
      " |  Methods defined here:\n",
      " |  \n",
      " |  Adding(self, element)\n",
      " |      This method is adding the data and checking at the same time,\n",
      " |      if it in an integer then it will add the element otherwise it raises an error\n",
      " |  \n",
      " |  Inspecting(self, element)\n",
      " |      Check the elements within the list, print it upon calling, \n",
      " |      and return a boolean value\n",
      " |  \n",
      " |  Removing(self, element)\n",
      " |      This method is removing the data, if the element exist in the list then it is removed, \n",
      " |      and if it does not then gives value error\n",
      " |  \n",
      " |  __init__(self)\n",
      " |      Make an empty list to store the processed data\n",
      " |  \n",
      " |  ----------------------------------------------------------------------\n",
      " |  Data descriptors inherited from Data_Set:\n",
      " |  \n",
      " |  __dict__\n",
      " |      dictionary for instance variables (if defined)\n",
      " |  \n",
      " |  __weakref__\n",
      " |      list of weak references to the object (if defined)\n",
      "\n"
     ]
    }
   ],
   "source": [
    "help(Dataset_Implementation)"
   ]
  },
  {
   "cell_type": "code",
   "execution_count": 6,
   "metadata": {},
   "outputs": [
    {
     "name": "stdout",
     "output_type": "stream",
     "text": [
      "Help on class Data_Set_Factory in module __main__:\n",
      "\n",
      "class Data_Set_Factory(builtins.object)\n",
      " |  It creates instances of the dataset_implementation class\n",
      " |  \n",
      " |  Methods defined here:\n",
      " |  \n",
      " |  create(self)\n",
      " |      # method\n",
      " |  \n",
      " |  ----------------------------------------------------------------------\n",
      " |  Data descriptors defined here:\n",
      " |  \n",
      " |  __dict__\n",
      " |      dictionary for instance variables (if defined)\n",
      " |  \n",
      " |  __weakref__\n",
      " |      list of weak references to the object (if defined)\n",
      "\n"
     ]
    }
   ],
   "source": [
    "help(Data_Set_Factory)"
   ]
  },
  {
   "cell_type": "markdown",
   "metadata": {},
   "source": [
    "### Testing Example"
   ]
  },
  {
   "cell_type": "code",
   "execution_count": 7,
   "metadata": {},
   "outputs": [
    {
     "name": "stdout",
     "output_type": "stream",
     "text": [
      "Error: Data must be an integer value.\n",
      "Current Dataset: [5, 10, 15, 20, 25]\n",
      "Error: Data is not present in the dataset.\n",
      "Updated Dataset: [5, 10, 20, 25]\n",
      "10\n",
      "Is 10 in the dataset? True\n",
      "30\n",
      "Is 30 in the dataset? False\n"
     ]
    }
   ],
   "source": [
    "# Instantiating the Dataset_Implementation\n",
    "dataset = Data_Set_Factory()\n",
    "dynamic_set = dataset.create()\n",
    "\n",
    "# Adding elements to the dataset\n",
    "try:\n",
    "    dynamic_set.Adding(5)\n",
    "    dynamic_set.Adding(10)\n",
    "    dynamic_set.Adding(15)\n",
    "    dynamic_set.Adding(20)\n",
    "    dynamic_set.Adding(25)\n",
    "    \n",
    "    # This will raise a TypeError\n",
    "    dynamic_set.Adding(\"Invalid\")  \n",
    "except TypeError as e:\n",
    "    print(f\"Error: {e}\")\n",
    "\n",
    "# Displaying the current dataset\n",
    "print(\"Current Dataset:\", dynamic_set.data_list)\n",
    "\n",
    "# Removing an element from the dataset\n",
    "try:\n",
    "    dynamic_set.Removing(15)\n",
    "    \n",
    "    # This will raise a ValueError\n",
    "    dynamic_set.Removing(30)  \n",
    "except ValueError as e:\n",
    "    print(f\"Error: {e}\")\n",
    "\n",
    "# Display the updated dataset\n",
    "print(\"Updated Dataset:\", dynamic_set.data_list)\n",
    "\n",
    "# Inspecting elements in the dataset\n",
    "print(\"Is 10 in the dataset?\", dynamic_set.Inspecting(10))  \n",
    "print(\"Is 30 in the dataset?\", dynamic_set.Inspecting(30))"
   ]
  },
  {
   "cell_type": "markdown",
   "metadata": {},
   "source": [
    "The above design works for 1 dimensional, but i can make the design to also work for 2 dimensional by making a little adjustment in the subclass \"class Dataset_Implementation(Data_Set)\" adding method and the rest of the design works fine, this shows that the proposed design is flexible for different dynamic datasets."
   ]
  },
  {
   "cell_type": "code",
   "execution_count": 8,
   "metadata": {},
   "outputs": [],
   "source": [
    "def Adding(self, element):\n",
    "    if isinstance(element, (int, list)):\n",
    "        self.data_list.append(element)\n",
    "    else:\n",
    "        raise TypeError(\"Data must be an integer value.\")"
   ]
  },
  {
   "cell_type": "code",
   "execution_count": 9,
   "metadata": {},
   "outputs": [
    {
     "name": "stdout",
     "output_type": "stream",
     "text": [
      "Error: Data must be an integer value.\n",
      "Current Dataset: []\n",
      "Error: Data is not present in the dataset.\n",
      "Updated Dataset: []\n",
      "[1, 2, 3]\n",
      "Is [1, 2, 3] in the dataset? False\n",
      "[4, 5, 6]\n",
      "Is [4, 5, 6] in the dataset? False\n"
     ]
    }
   ],
   "source": [
    "# Example which shows that the design works for 2-Dimensional too\n",
    "\n",
    "# Instantiating the Dataset_Implementation\n",
    "dynamic_set = Data_Set_Factory().create()\n",
    "\n",
    "# Adding elements to the dataset\n",
    "try:\n",
    "    dynamic_set.Adding([1, 2, 3])\n",
    "    dynamic_set.Adding(10)\n",
    "    dynamic_set.Adding(\"Invalid\")  \n",
    "except TypeError as e:\n",
    "    print(f\"Error: {e}\")\n",
    "\n",
    "# Display the current dataset\n",
    "print(\"Current Dataset:\", dynamic_set.data_list)\n",
    "\n",
    "# Removing an element from the dataset\n",
    "try:\n",
    "    dynamic_set.Removing([4, 5, 6])\n",
    "    dynamic_set.Removing(30) \n",
    "except ValueError as e:\n",
    "    print(f\"Error: {e}\")\n",
    "\n",
    "# Display the updated dataset\n",
    "print(\"Updated Dataset:\", dynamic_set.data_list)\n",
    "\n",
    "# Inspecting elements in the given dataset\n",
    "print(\"Is [1, 2, 3] in the dataset?\", dynamic_set.Inspecting([1, 2, 3]))  \n",
    "print(\"Is [4, 5, 6] in the dataset?\", dynamic_set.Inspecting([4, 5, 6])) "
   ]
  },
  {
   "cell_type": "markdown",
   "metadata": {},
   "source": [
    "### Conclusion"
   ]
  },
  {
   "cell_type": "markdown",
   "metadata": {},
   "source": [
    "By using the Factory Method Pattern, i made the dynamic dataset management of the ABC-Business Intelligence (BI) System more flexible, changeable, and easier to maintain. This Method allows to add new datasets by giving the freedom of defining new classes and also give a choice to select the dataset at the runtime and helps the system to create new datasets while obeying the standard management Tasks. The two testing examples demonstrates that the design is flexible and maintainable for the future adjustments."
   ]
  },
  {
   "cell_type": "markdown",
   "metadata": {},
   "source": [
    "## Design Question 2: Flexible Calculation Methods"
   ]
  },
  {
   "cell_type": "markdown",
   "metadata": {},
   "source": [
    "• \"In what ways can Object-Oriented Design facilitate the flexibility of choosing different statistical methods (such as mean, median, mode) for dataset analysis, and how can these methods be dynamically interchanged for each dataset instance?\""
   ]
  },
  {
   "cell_type": "markdown",
   "metadata": {},
   "source": [
    "### Strategy Pattern"
   ]
  },
  {
   "cell_type": "markdown",
   "metadata": {},
   "source": [
    "In developing ABC-Business Intelligence(BI) System, for the Flexible Calculation Methods. This is a behavioral software design pattern that enables us to select an algorithm at the time of code execution, put each of the algorithm into a separate class, and make their objects interchangeable."
   ]
  },
  {
   "cell_type": "markdown",
   "metadata": {},
   "source": [
    "### Structure of the Strategy Pattern"
   ]
  },
  {
   "cell_type": "markdown",
   "metadata": {},
   "source": [
    "The structure of the Strategy Design Pattern for the Flexible Calculation Methods are as follows:\n",
    "\n",
    "Statistical_Strategy: This is the abstract base class which contain an abstract method \"calculation\" and this method will act as an algorithm that will be use for the statistical data analyzation. The abstract method can be over written again in the concrete strategies classes which are \"Mean_Statistics\", \"Median_Statistics\" and \"Mode_Statistics\" to perform their own method of calculation. For example,\n",
    "\n",
    "\"Mean_Statistics\" = Calculate the mean by adding all the numbers in the dataset and diving them by the total number of numbers.value  total sum of numbers by the tnumber of numbers.\n",
    "\n",
    "\"Median_Statistics\" = Calculate the median by sorting the dataset in an ascending order, if the dataset consist of even numbers then give me the result by calculating the average of two middle numbers, and if the dataset contain odd numbers then give me the output of the middle number from the list. \n",
    "    \n",
    "\"Mode_Statistics\" = Give me the output of the number that occurs several times in the data list, for that purpose i use max function with a custome key parameter.\n",
    "\n",
    "\n",
    "Dataset: This is the super base class which takes data and strategy as parameters. This class uses a method \"\"Set_Statistical_Strategy\" whose function is to set the statistical strategy according to the given dataset."
   ]
  },
  {
   "cell_type": "markdown",
   "metadata": {},
   "source": [
    "### Code Demonstration"
   ]
  },
  {
   "cell_type": "code",
   "execution_count": 10,
   "metadata": {},
   "outputs": [],
   "source": [
    "######################################\n",
    "# Interface definitions\n",
    "######################################\n",
    "\n",
    "\"\"\" Applying \"\"\"\n",
    "\n",
    "\"\"\" Design Principle 1: Identify the aspects of your application that vary and separate them from what stays the same. \"\"\"\n",
    "\n",
    "\"\"\" Design Principle 2: Program to an interface, not an implementation. \"\"\"\n",
    "\n",
    "\"\"\" Design Principle 3: Favor composition over inheritance. \"\"\"\n",
    "\n",
    "\"\"\" Design Principle 5: Classes should be open for extension but closed for modification. \"\"\"\n",
    "\n",
    "\n",
    "\"\"\" Defining the abstract base classes(Interface) for statistical analysis strategies which will vary \n",
    "__metaclass__ = ABCMeta \"\"\"\n",
    "\n",
    "\n",
    "class Statistical_Strategy(metaclass = ABCMeta):\n",
    "\n",
    "    @abstractmethod\n",
    "    def calculation(self, data):\n",
    "        \n",
    "        \"\"\"Must be instantiated in the concrete classes\"\"\"\n",
    "        pass\n",
    "    \n",
    "    \n",
    "######################################\n",
    "# Interface functions\n",
    "######################################\n",
    "    \n",
    "\n",
    "\"\"\"Implementing Concrete Statistical Strategies \"\"\"\n",
    "\n",
    "# Implementing concrete strategy for mean statistical analysis\n",
    "class Mean_Statistics(Statistical_Strategy):\n",
    "    \n",
    "    \"\"\"Calculating the mean of the given dataset.\"\"\"\n",
    "    \n",
    "    def calculation(self, data):\n",
    "        return sum(data) / len(data)\n",
    "    \n",
    "\n",
    "# Implementing concrete strategy for median statistical analysis\n",
    "class Median_Statistics(Statistical_Strategy):\n",
    "    \n",
    "    \"\"\" Calculating the median of the given dataset. \"\"\"\n",
    "    \n",
    "    def calculation(self, data):\n",
    "        \n",
    "        \"\"\" Sorting the list in ascending order \"\"\"\n",
    "        \n",
    "        sorted_data = sorted(data)\n",
    "        n = len(data)\n",
    "        \n",
    "        \"\"\" Assuming that the dataset may consist of even and odd numbers \"\"\"\n",
    "        \n",
    "        if n % 2 == 0:\n",
    "            return (sorted_data[n // 2 - 1] + sorted_data[n // 2]) / 2\n",
    "        else:\n",
    "            return sorted_data[n // 2]\n",
    "        \n",
    "\n",
    "# Implementing concrete strategy for mode statistical analysis\n",
    "class Mode_Statistics(Statistical_Strategy):\n",
    "    \n",
    "    \"\"\" Calculate the mode of the given dataset. \"\"\"\n",
    "    \n",
    "    \"\"\"Using the max function with the key custom parameter\"\"\"\n",
    "    \n",
    "    def calculation(self, data):\n",
    "        return max(set(data), key=data.count)\n",
    "    \n",
    "    \n",
    "######################################\n",
    "# Object definition\n",
    "######################################\n",
    "\n",
    "\n",
    "\"\"\" Design Principle 7: Depend on abstractions. Do not depend on concrete classes (Dependency Inversion)\"\"\"\n",
    "\n",
    "\"\"\"Super Base Class\"\"\"\n",
    "\n",
    "\"\"\"It is known as our client that will use a selected statistical strategy.\"\"\"\n",
    "    \n",
    "class Dataset:\n",
    "    \n",
    "    def __init__(self, strategy, data):\n",
    "        self.data = data # attribute which represents the dataset\n",
    "        self.strategy = strategy # reference to my concrete object\n",
    "        self.strategy_function = None # attribute through which my super class interacts with the concrete strategies via interface \n",
    "        self.Set_Statistical_Strategy()  # this is the internal method\n",
    "\n",
    "\n",
    "    def Set_Statistical_Strategy(self):\n",
    "        \n",
    "        \"\"\" This method sets the statistical strategy based on the value of strategy\"\"\"\n",
    "        \n",
    "        allowed_strategies = [\"mean\", \"median\", \"mode\"]\n",
    "        \n",
    "        \"\"\"In order to be secure in Future\n",
    "        Raising a ValueError if an invalid strategy is provided.\"\"\"\n",
    "\n",
    "        if self.strategy not in allowed_strategies:\n",
    "            raise ValueError(\n",
    "                f\"Invalid strategy. Allowed strategies are: {allowed_strategies}, \"\n",
    "                f\"got strategy: {self.strategy}\")\n",
    "\n",
    "        if self.strategy == \"mean\":\n",
    "            self.strategy_function = Mean_Statistics().calculation\n",
    "        elif self.strategy == \"median\":\n",
    "            self.strategy_function = Median_Statistics().calculation\n",
    "        elif self.strategy == \"mode\":\n",
    "            self.strategy_function = Mode_Statistics().calculation\n",
    "    \n",
    "    def Get_Data (self):\n",
    "        \n",
    "        \"\"\" Returns the value of data itself \"\"\"\n",
    "        \n",
    "        return self.data"
   ]
  },
  {
   "cell_type": "code",
   "execution_count": 11,
   "metadata": {},
   "outputs": [
    {
     "name": "stdout",
     "output_type": "stream",
     "text": [
      "Help on class Statistical_Strategy in module __main__:\n",
      "\n",
      "class Statistical_Strategy(builtins.object)\n",
      " |  Methods defined here:\n",
      " |  \n",
      " |  calculation(self, data)\n",
      " |      Must be instantiated in the concrete classes\n",
      " |  \n",
      " |  ----------------------------------------------------------------------\n",
      " |  Data descriptors defined here:\n",
      " |  \n",
      " |  __dict__\n",
      " |      dictionary for instance variables (if defined)\n",
      " |  \n",
      " |  __weakref__\n",
      " |      list of weak references to the object (if defined)\n",
      " |  \n",
      " |  ----------------------------------------------------------------------\n",
      " |  Data and other attributes defined here:\n",
      " |  \n",
      " |  __abstractmethods__ = frozenset({'calculation'})\n",
      "\n"
     ]
    }
   ],
   "source": [
    "help(Statistical_Strategy)"
   ]
  },
  {
   "cell_type": "code",
   "execution_count": 12,
   "metadata": {},
   "outputs": [
    {
     "name": "stdout",
     "output_type": "stream",
     "text": [
      "Help on class Dataset in module __main__:\n",
      "\n",
      "class Dataset(builtins.object)\n",
      " |  Dataset(strategy, data)\n",
      " |  \n",
      " |  Methods defined here:\n",
      " |  \n",
      " |  Get_Data(self)\n",
      " |      Returns the value of data itself\n",
      " |  \n",
      " |  Set_Statistical_Strategy(self)\n",
      " |      This method sets the statistical strategy based on the value of strategy\n",
      " |  \n",
      " |  __init__(self, strategy, data)\n",
      " |      Initialize self.  See help(type(self)) for accurate signature.\n",
      " |  \n",
      " |  ----------------------------------------------------------------------\n",
      " |  Data descriptors defined here:\n",
      " |  \n",
      " |  __dict__\n",
      " |      dictionary for instance variables (if defined)\n",
      " |  \n",
      " |  __weakref__\n",
      " |      list of weak references to the object (if defined)\n",
      "\n"
     ]
    }
   ],
   "source": [
    "help(Dataset)"
   ]
  },
  {
   "cell_type": "markdown",
   "metadata": {},
   "source": [
    "### Testing the Code"
   ]
  },
  {
   "cell_type": "code",
   "execution_count": 13,
   "metadata": {},
   "outputs": [
    {
     "name": "stdout",
     "output_type": "stream",
     "text": [
      "Mean: 10.3\n",
      "Median: 9.5\n",
      "Mode: 3\n"
     ]
    }
   ],
   "source": [
    "# Testing Example 1: For a Single List\n",
    "\n",
    "data = [10, 5, 8, 15, 7, 12, 20, 3, 9, 14]\n",
    "\n",
    "# Mean_Strategy\n",
    "dataset_mean = Dataset(strategy=\"mean\", data=data)\n",
    "result_mean = dataset_mean.strategy_function(data)\n",
    "print(f\"Mean: {result_mean}\")\n",
    "\n",
    "# Median_Strategy\n",
    "dataset_median = Dataset(strategy=\"median\", data=data)\n",
    "result_median = dataset_median.strategy_function(data)\n",
    "print(f\"Median: {result_median}\")\n",
    "\n",
    "# Mode_Strategy\n",
    "dataset_mode = Dataset(strategy=\"mode\", data=data)\n",
    "result_mode = dataset_mode.strategy_function(data)\n",
    "print(f\"Mode: {result_mode}\")\n"
   ]
  },
  {
   "cell_type": "code",
   "execution_count": 14,
   "metadata": {},
   "outputs": [
    {
     "name": "stdout",
     "output_type": "stream",
     "text": [
      "Dataset 1 - Mean: 30.0\n",
      "Dataset 2 - Median: 30.0\n"
     ]
    }
   ],
   "source": [
    "# Testing Example 2: For two different datasets\n",
    "\n",
    "dataset1 = [10, 20, 30, 40, 50]\n",
    "dataset2 = [5, 15, 25, 35, 45, 55]\n",
    "\n",
    "# Creating dataset instances with different statistical strategies\n",
    "dataset_instance1 = Dataset(strategy=\"mean\", data=dataset1)\n",
    "dataset_instance2 = Dataset(strategy=\"median\", data=dataset2)\n",
    "\n",
    "# Performing statistical analysis on each dataset\n",
    "result1 = dataset_instance1.strategy_function(dataset_instance1.data)\n",
    "result2 = dataset_instance2.strategy_function(dataset_instance2.data)\n",
    "\n",
    "# Printing the result\n",
    "print(f\"Dataset 1 - Mean: {result1}\")\n",
    "print(f\"Dataset 2 - Median: {result2}\")\n"
   ]
  },
  {
   "cell_type": "markdown",
   "metadata": {},
   "source": [
    "### Conclusion"
   ]
  },
  {
   "cell_type": "markdown",
   "metadata": {},
   "source": [
    "I used the Strategy Patten for this deisgn question, due to its flexible nature. The Strategy Pattern allows me to enacapsulate the common behaviour in the abstract class, and i can make changes to the behaviour or add new statistical strategies via the concrete classes. The concrete classes makes my code more maintainable by giving it the freedom of interchanging between strategies.The proposed design follows the principle of open and closed modification, so i can add new strategies which will follow the rules and regulations that i made, without giving any error. This pattern allows me to choose different statistical strategies for dataset anaylysis at the execution time uniformly without making any change to the super class. "
   ]
  },
  {
   "cell_type": "markdown",
   "metadata": {},
   "source": [
    "## Design Question 3: Decoupled Frontend and Backend"
   ]
  },
  {
   "cell_type": "markdown",
   "metadata": {},
   "source": [
    "• \"How can Object-Oriented Design Patterns and Principles be used to decouple the Front End and Back End of the BI system, ensuring that 'reporting widgets' can dynamically subscribe to and unsubscribe from datasets for live updates?\""
   ]
  },
  {
   "cell_type": "markdown",
   "metadata": {},
   "source": [
    "### Observer Pattern"
   ]
  },
  {
   "cell_type": "markdown",
   "metadata": {},
   "source": [
    "The Observer Pattern introduces subscription mechanism between various objects, so if there comes any change that the subject wants or some event occurs related to the objects, then the observers gets updates simultaneously about the change. This pattern consist of a set of interfaces."
   ]
  },
  {
   "cell_type": "markdown",
   "metadata": {},
   "source": [
    "### Structure of the Observer Pattern"
   ]
  },
  {
   "cell_type": "markdown",
   "metadata": {},
   "source": [
    "The Structure of the given Observer Pattern is described below:\n",
    "\n",
    "Data_Subject: This class acts as an abstract class( Interface) which contains the list of observers and defines different methods such as \"Subscribe_Observer\" ( ), \"Unsubscribe_Observer\" ( Remove the observer from the list), and \"Notify_Observer\".\n",
    "\n",
    "Data_Observer: This class is the abstract observer interface that will be get notified of changes in the subject. It also contains an abstract method \"update\" through which concrete observer deals with the changing updates.\n",
    "\n",
    "Concrete_Subject: This class wraps the list of observers and introduces concrete implementations by over writing the abstract base methods. This class is responsible to send notifications with the updates to all the subscribed observers. \n",
    "\n",
    "Concrete_Observer: This class implements the observer interface, recieves updates from the subject and print it. "
   ]
  },
  {
   "cell_type": "markdown",
   "metadata": {},
   "source": [
    "### Code Demonstration"
   ]
  },
  {
   "cell_type": "code",
   "execution_count": 15,
   "metadata": {},
   "outputs": [],
   "source": [
    "\"\"\" Applying \"\"\"\n",
    "\n",
    "\"\"\" Design Principle 2. Program to an interface not an implementation \"\"\"\n",
    "\n",
    "\"\"\" Design Principle 7. Depend on abstractions. Do not depend on concrete classes (Dependency Inversion) \"\"\"\n",
    "\n",
    "\"\"\" Abstract Subject Interface \"\"\"\n",
    "\n",
    "class Data_Subject(metaclass=ABCMeta):\n",
    "    \n",
    "    @abstractmethod\n",
    "    def Subscribe_Observer(self, observer):\n",
    "        \n",
    "        \"\"\" Must be overridden in the concrete subject \"\"\"\n",
    "        pass\n",
    "\n",
    "    @abstractmethod\n",
    "    def Unsubscribe_Observer(self, observer):\n",
    "        \n",
    "        \"\"\" Must be overridden in the concrete subject \"\"\"\n",
    "        pass\n",
    "\n",
    "    @abstractmethod\n",
    "    def Notify_Observer(self, data):\n",
    "        \n",
    "        \"\"\" Must be overridden in the concrete subject \"\"\"\n",
    "        pass"
   ]
  },
  {
   "cell_type": "code",
   "execution_count": 16,
   "metadata": {},
   "outputs": [
    {
     "name": "stdout",
     "output_type": "stream",
     "text": [
      "Help on class Data_Subject in module __main__:\n",
      "\n",
      "class Data_Subject(builtins.object)\n",
      " |  Methods defined here:\n",
      " |  \n",
      " |  Notify_Observer(self, data)\n",
      " |      Must be overridden in the concrete subject\n",
      " |  \n",
      " |  Subscribe_Observer(self, observer)\n",
      " |      Must be overridden in the concrete subject\n",
      " |  \n",
      " |  Unsubscribe_Observer(self, observer)\n",
      " |      Must be overridden in the concrete subject\n",
      " |  \n",
      " |  ----------------------------------------------------------------------\n",
      " |  Data descriptors defined here:\n",
      " |  \n",
      " |  __dict__\n",
      " |      dictionary for instance variables (if defined)\n",
      " |  \n",
      " |  __weakref__\n",
      " |      list of weak references to the object (if defined)\n",
      " |  \n",
      " |  ----------------------------------------------------------------------\n",
      " |  Data and other attributes defined here:\n",
      " |  \n",
      " |  __abstractmethods__ = frozenset({'Notify_Observer', 'Subscribe_Observe...\n",
      "\n"
     ]
    }
   ],
   "source": [
    "help(Data_Subject)"
   ]
  },
  {
   "cell_type": "code",
   "execution_count": 17,
   "metadata": {},
   "outputs": [],
   "source": [
    "\"\"\"Abstract Observer Interface \"\"\"\n",
    "\n",
    "class Data_Observer(metaclass=ABCMeta):\n",
    "    \n",
    "    @abstractmethod\n",
    "    def update(self, data):\n",
    "        \n",
    "        \"\"\" Method to notify the observer \"\"\"\n",
    "        pass"
   ]
  },
  {
   "cell_type": "code",
   "execution_count": 18,
   "metadata": {},
   "outputs": [
    {
     "name": "stdout",
     "output_type": "stream",
     "text": [
      "Help on class Data_Observer in module __main__:\n",
      "\n",
      "class Data_Observer(builtins.object)\n",
      " |  Methods defined here:\n",
      " |  \n",
      " |  update(self, data)\n",
      " |      Method to notify the observer\n",
      " |  \n",
      " |  ----------------------------------------------------------------------\n",
      " |  Data descriptors defined here:\n",
      " |  \n",
      " |  __dict__\n",
      " |      dictionary for instance variables (if defined)\n",
      " |  \n",
      " |  __weakref__\n",
      " |      list of weak references to the object (if defined)\n",
      " |  \n",
      " |  ----------------------------------------------------------------------\n",
      " |  Data and other attributes defined here:\n",
      " |  \n",
      " |  __abstractmethods__ = frozenset({'update'})\n",
      "\n"
     ]
    }
   ],
   "source": [
    "help(Data_Observer)"
   ]
  },
  {
   "cell_type": "code",
   "execution_count": 19,
   "metadata": {},
   "outputs": [],
   "source": [
    "\"\"\" Design Principle 3. Favour composition over inheritance \"\"\"\n",
    "\n",
    "\"\"\" Design Principle 4. Strive for loosely coupled designs between objects that interact \"\"\"\n",
    "\n",
    "\"\"\" Design Principle 5. Classes should be open for extension but closed for modification \"\"\"\n",
    "\n",
    "\"\"\" Design Principle 6. Talk only to your immediate friends (Least Knowledge)\"\"\"\n",
    "\n",
    "\"\"\"Concrete Subject ( Backend ) \"\"\"\n",
    "\n",
    "class Concrete_Subject(Data_Subject):\n",
    "    \n",
    "    \"\"\" Concrete Subject Implementations \"\"\"\n",
    "    \n",
    "    def __init__(self):\n",
    "        \n",
    "        \"\"\" Make an empty list to store the observers \"\"\"\n",
    "        \n",
    "        self._observers = []\n",
    "        self._data = None # Create an instance variable\n",
    "\n",
    "    def Subscribe_Observer(self, observer):\n",
    "        \n",
    "        \"\"\" The new object can be subscribed to recieve notifications from the subject \"\"\"\n",
    "        \n",
    "        \"\"\" If the observer with the same name comes for subscription,\n",
    "            raises a value error \"\"\"\n",
    "            \n",
    "        if observer not in self._observers:\n",
    "            self._observers.append(observer)\n",
    "        else:\n",
    "            raise ValueError(\"Observer must be unique, it is already registered.\")\n",
    "\n",
    "    def Unsubscribe_Observer(self, observer):\n",
    "        \n",
    "        \"\"\" Remove an observer \"\"\" \n",
    "        \n",
    "        self._observers.remove(observer)\n",
    "            \n",
    "    def Notify_Observer(self, data):\n",
    "        \n",
    "        \"\"\" Updates the subject attribute \"\"\"\n",
    "        \n",
    "        self._data = data\n",
    "        \n",
    "        \"\"\" Notifies the observer with the updated information \"\"\"\n",
    "        \n",
    "        for observer in self._observers:\n",
    "                observer.update(data)"
   ]
  },
  {
   "cell_type": "code",
   "execution_count": 20,
   "metadata": {},
   "outputs": [
    {
     "name": "stdout",
     "output_type": "stream",
     "text": [
      "Help on class Concrete_Subject in module __main__:\n",
      "\n",
      "class Concrete_Subject(Data_Subject)\n",
      " |  Concrete Subject Implementations\n",
      " |  \n",
      " |  Method resolution order:\n",
      " |      Concrete_Subject\n",
      " |      Data_Subject\n",
      " |      builtins.object\n",
      " |  \n",
      " |  Methods defined here:\n",
      " |  \n",
      " |  Notify_Observer(self, data)\n",
      " |      Updates the subject attribute\n",
      " |  \n",
      " |  Subscribe_Observer(self, observer)\n",
      " |      The new object can be subscribed to recieve notifications from the subject\n",
      " |  \n",
      " |  Unsubscribe_Observer(self, observer)\n",
      " |      Remove an observer\n",
      " |  \n",
      " |  __init__(self)\n",
      " |      Make an empty list to store the observers\n",
      " |  \n",
      " |  ----------------------------------------------------------------------\n",
      " |  Data and other attributes defined here:\n",
      " |  \n",
      " |  __abstractmethods__ = frozenset()\n",
      " |  \n",
      " |  ----------------------------------------------------------------------\n",
      " |  Data descriptors inherited from Data_Subject:\n",
      " |  \n",
      " |  __dict__\n",
      " |      dictionary for instance variables (if defined)\n",
      " |  \n",
      " |  __weakref__\n",
      " |      list of weak references to the object (if defined)\n",
      "\n"
     ]
    }
   ],
   "source": [
    "help(Concrete_Subject)"
   ]
  },
  {
   "cell_type": "code",
   "execution_count": 21,
   "metadata": {},
   "outputs": [],
   "source": [
    "\"\"\" Concrete Observer ( Frontend Widget )\"\"\"\n",
    "\n",
    "class Reporting_Widget(Data_Observer):\n",
    "    \n",
    "    \"\"\" Concrete Observer Implementation \"\"\"\n",
    "    \n",
    "    def __init__(self, name):\n",
    "        \n",
    "        \"\"\" Initialize the name attribute with the given name \"\"\"\n",
    "        \n",
    "        self._name = name\n",
    "    \n",
    "    def update(self, data):\n",
    "        \n",
    "        \"\"\" Reporting widget gets notification of changes \"\"\"\n",
    "                \n",
    "        print(f\"{self._name}: Received data from the subject: {data} \")"
   ]
  },
  {
   "cell_type": "code",
   "execution_count": 22,
   "metadata": {},
   "outputs": [
    {
     "name": "stdout",
     "output_type": "stream",
     "text": [
      "Help on class Reporting_Widget in module __main__:\n",
      "\n",
      "class Reporting_Widget(Data_Observer)\n",
      " |  Reporting_Widget(name)\n",
      " |  \n",
      " |  Concrete Observer Implementation\n",
      " |  \n",
      " |  Method resolution order:\n",
      " |      Reporting_Widget\n",
      " |      Data_Observer\n",
      " |      builtins.object\n",
      " |  \n",
      " |  Methods defined here:\n",
      " |  \n",
      " |  __init__(self, name)\n",
      " |      Initialize the name attribute with the given name\n",
      " |  \n",
      " |  update(self, data)\n",
      " |      Reporting widget gets notification of changes\n",
      " |  \n",
      " |  ----------------------------------------------------------------------\n",
      " |  Data and other attributes defined here:\n",
      " |  \n",
      " |  __abstractmethods__ = frozenset()\n",
      " |  \n",
      " |  ----------------------------------------------------------------------\n",
      " |  Data descriptors inherited from Data_Observer:\n",
      " |  \n",
      " |  __dict__\n",
      " |      dictionary for instance variables (if defined)\n",
      " |  \n",
      " |  __weakref__\n",
      " |      list of weak references to the object (if defined)\n",
      "\n"
     ]
    }
   ],
   "source": [
    "help(Reporting_Widget)"
   ]
  },
  {
   "cell_type": "markdown",
   "metadata": {},
   "source": [
    "### Testing the Code "
   ]
  },
  {
   "cell_type": "code",
   "execution_count": 23,
   "metadata": {},
   "outputs": [
    {
     "name": "stdout",
     "output_type": "stream",
     "text": [
      "Widget 1: Received data from the subject: New information available \n",
      "Widget 2: Received data from the subject: New information available \n",
      "Widget 2: Received data from the subject: Updated information \n"
     ]
    }
   ],
   "source": [
    "# Creating a concrete subject\n",
    "subject = Concrete_Subject()\n",
    "\n",
    "# Creating the observers\n",
    "Observer_1 = Reporting_Widget(\"Widget 1\")\n",
    "Observer_2 = Reporting_Widget(\"Widget 2\")\n",
    "\n",
    "# Subscribing the observers to the subject\n",
    "subject.Subscribe_Observer(Observer_1)\n",
    "subject.Subscribe_Observer(Observer_2)\n",
    "\n",
    "# Notifying the observer about a change in the subject\n",
    "subject.Notify_Observer(\"New information available\")\n",
    "\n",
    "# Unsubscribing an observer\n",
    "subject.Unsubscribe_Observer(Observer_1)\n",
    "\n",
    "# Notifying the subject with the updated status \n",
    "subject.Notify_Observer(\"Updated information\")"
   ]
  },
  {
   "cell_type": "markdown",
   "metadata": {},
   "source": [
    "### Conclusion"
   ]
  },
  {
   "cell_type": "markdown",
   "metadata": {},
   "source": [
    "The above code demonstrates the Observer Pattern, which decouples the Frontend and Backend of the Business Intelligence (BI) system, where the reporting widgets dynamically subscribe and unsubscribe the dataset for live updates. The pattern defines the interfaces and concrete classes to these interfaces in order to support the subscription, unsubscription and notification of observers. This pattern follow the dependency inversion principle, which allows the reporting widgets to subscribe and unsubscribe with the live updates to the frontend independent of the backend. This design supports abstraction and encapsulation which makes the Business Intelligence System more maintainable and flexible."
   ]
  },
  {
   "cell_type": "markdown",
   "metadata": {},
   "source": [
    "## Design Question 4: Customizable Branding for Client Companies"
   ]
  },
  {
   "cell_type": "markdown",
   "metadata": {},
   "source": [
    "• \"What Object-Oriented strategies can be employed to allow for customizable and consistent branding elements (like logos) across all BI widgets, catering to the needs of different client companies?\""
   ]
  },
  {
   "cell_type": "markdown",
   "metadata": {},
   "source": [
    "### Decorator Pattern"
   ]
  },
  {
   "cell_type": "markdown",
   "metadata": {},
   "source": [
    "This is a Structual design pattern that permits you to add new objects having different charateristics by wrapping them into separate interfaces, without altering the internal implementation. This feature encourages composition over inheritance, because the new behaviour will only be added to the specific object and the other subclasses does not need to know about this implementation."
   ]
  },
  {
   "cell_type": "markdown",
   "metadata": {},
   "source": [
    "### Structure Explanation"
   ]
  },
  {
   "cell_type": "markdown",
   "metadata": {},
   "source": [
    "The structure of the Decorator Pattern is as follows:\n",
    "\n",
    "Abstract Base Classe: I introduced two abstract classes one is \"BI_Widget\" which obtains the widget data through the abstract method 'Widget_Data' and \"Client_Company\" which wraps the logo of the company and has an abstract method 'Company_Brand'.\n",
    "\n",
    "Concrete Implementations: \"Concrete_BI_Widget\" and \"Concrete_Client_Company\" are two different concrete classes that over write the present abstract methods within them.\n",
    "\n",
    "Widget_Decorator: This is the base class ,which takes the widget data during initilization.\n",
    "\n",
    "Brand_Decorator: This class is another decorator that adds branding to a Widget subclass. It takes an instance of a Widget subclass and a logo string in its constructor and stores them in instance variables. It also implements the display method by calling the display method of the stored widget and prepending the logo string to the result.\n"
   ]
  },
  {
   "cell_type": "markdown",
   "metadata": {},
   "source": [
    "### Code Demonstration"
   ]
  },
  {
   "cell_type": "code",
   "execution_count": 24,
   "metadata": {},
   "outputs": [],
   "source": [
    "\"\"\" Applying \"\"\"\n",
    "\n",
    "\"\"\" Design Principle 2. Program to an interface not an implementation \"\"\"\n",
    "\n",
    "\"\"\" Design Principle 5. Classes should be open for extension but closed for modification \"\"\"\n",
    "\n",
    "\n",
    "\"\"\" Component Interface \"\"\"\n",
    "\n",
    "\"\"\" It is abstract base class \"\"\"\n",
    "\n",
    "\n",
    "class BI_Widget(metaclass = ABCMeta):\n",
    "    \n",
    "    @abstractmethod\n",
    "    def Widget_Data(self):\n",
    "        \n",
    "        \"\"\" Method to fetch the Widget data \"\"\"\n",
    "        \n",
    "        \"\"\" Must be instantiated in the widget concrete class \"\"\"\n",
    "        pass\n",
    "    \n",
    "\n",
    "class Client_Company(metaclass = ABCMeta):\n",
    "    \n",
    "    @abstractmethod\n",
    "    def Company_Brand(self):\n",
    "        \n",
    "        \"\"\" Method to define the logo of the company \"\"\"\n",
    "        \n",
    "        \"\"\" Must be instantiated in the client concrete class \"\"\"\n",
    "        pass\n",
    "    "
   ]
  },
  {
   "cell_type": "code",
   "execution_count": 25,
   "metadata": {},
   "outputs": [
    {
     "name": "stdout",
     "output_type": "stream",
     "text": [
      "Help on class BI_Widget in module __main__:\n",
      "\n",
      "class BI_Widget(builtins.object)\n",
      " |  Methods defined here:\n",
      " |  \n",
      " |  Widget_Data(self)\n",
      " |      Method to fetch the Widget data\n",
      " |  \n",
      " |  ----------------------------------------------------------------------\n",
      " |  Data descriptors defined here:\n",
      " |  \n",
      " |  __dict__\n",
      " |      dictionary for instance variables (if defined)\n",
      " |  \n",
      " |  __weakref__\n",
      " |      list of weak references to the object (if defined)\n",
      " |  \n",
      " |  ----------------------------------------------------------------------\n",
      " |  Data and other attributes defined here:\n",
      " |  \n",
      " |  __abstractmethods__ = frozenset({'Widget_Data'})\n",
      "\n"
     ]
    }
   ],
   "source": [
    "help(BI_Widget)"
   ]
  },
  {
   "cell_type": "code",
   "execution_count": 26,
   "metadata": {},
   "outputs": [],
   "source": [
    "\"\"\" Concrete Implementations \"\"\"\n",
    "\n",
    "# For BI-Widget\n",
    "class Concrete_BI_Widget(BI_Widget):\n",
    "    \n",
    "    def Widget_Data(self):\n",
    "        \n",
    "        \"\"\" Getting the widget Data \"\"\"\n",
    "        \n",
    "        return \"Widget Data\"\n",
    "\n",
    "# For Client Company\n",
    "class Concrete_Client_Company(Client_Company):\n",
    "    \n",
    "    def __init__(self, company_name):\n",
    "        \n",
    "        \"\"\" initialize the company name \"\"\"\n",
    "        \n",
    "        self._company_name = company_name\n",
    "    \n",
    "    def Company_Brand(self):\n",
    "        \n",
    "        \"\"\" Getting the defined Logo along with the company name \"\"\"\n",
    "        \n",
    "        return f\"{self._company_name} Logo\""
   ]
  },
  {
   "cell_type": "code",
   "execution_count": 27,
   "metadata": {},
   "outputs": [
    {
     "name": "stdout",
     "output_type": "stream",
     "text": [
      "Help on class Concrete_BI_Widget in module __main__:\n",
      "\n",
      "class Concrete_BI_Widget(BI_Widget)\n",
      " |  Method resolution order:\n",
      " |      Concrete_BI_Widget\n",
      " |      BI_Widget\n",
      " |      builtins.object\n",
      " |  \n",
      " |  Methods defined here:\n",
      " |  \n",
      " |  Widget_Data(self)\n",
      " |      Getting the widget Data\n",
      " |  \n",
      " |  ----------------------------------------------------------------------\n",
      " |  Data and other attributes defined here:\n",
      " |  \n",
      " |  __abstractmethods__ = frozenset()\n",
      " |  \n",
      " |  ----------------------------------------------------------------------\n",
      " |  Data descriptors inherited from BI_Widget:\n",
      " |  \n",
      " |  __dict__\n",
      " |      dictionary for instance variables (if defined)\n",
      " |  \n",
      " |  __weakref__\n",
      " |      list of weak references to the object (if defined)\n",
      "\n"
     ]
    }
   ],
   "source": [
    "help(Concrete_BI_Widget)"
   ]
  },
  {
   "cell_type": "code",
   "execution_count": 28,
   "metadata": {},
   "outputs": [
    {
     "name": "stdout",
     "output_type": "stream",
     "text": [
      "Help on class Concrete_Client_Company in module __main__:\n",
      "\n",
      "class Concrete_Client_Company(Client_Company)\n",
      " |  Concrete_Client_Company(company_name)\n",
      " |  \n",
      " |  Method resolution order:\n",
      " |      Concrete_Client_Company\n",
      " |      Client_Company\n",
      " |      builtins.object\n",
      " |  \n",
      " |  Methods defined here:\n",
      " |  \n",
      " |  Company_Brand(self)\n",
      " |      Getting the defined Logo along with the company name\n",
      " |  \n",
      " |  __init__(self, company_name)\n",
      " |      initialize the company name\n",
      " |  \n",
      " |  ----------------------------------------------------------------------\n",
      " |  Data and other attributes defined here:\n",
      " |  \n",
      " |  __abstractmethods__ = frozenset()\n",
      " |  \n",
      " |  ----------------------------------------------------------------------\n",
      " |  Data descriptors inherited from Client_Company:\n",
      " |  \n",
      " |  __dict__\n",
      " |      dictionary for instance variables (if defined)\n",
      " |  \n",
      " |  __weakref__\n",
      " |      list of weak references to the object (if defined)\n",
      "\n"
     ]
    }
   ],
   "source": [
    "help(Concrete_Client_Company)"
   ]
  },
  {
   "cell_type": "code",
   "execution_count": 29,
   "metadata": {},
   "outputs": [],
   "source": [
    "\"\"\" Design Principle 3. Favour composition over inheritance \"\"\"\n",
    "\n",
    "\"\"\" Decorator base class for BI Widgets \"\"\"\n",
    "\n",
    "class Widget_Decorator(BI_Widget):\n",
    "    \n",
    "    def __init__(self, widget):\n",
    "        \n",
    "        \"\"\" parameter: widget\"\"\"\n",
    "        \n",
    "        \"\"\"Initialize the decorator with a base widget data.\"\"\"\n",
    "        \n",
    "        self._widget = widget # reference to the base widget data \n",
    "\n",
    "    @abstractmethod\n",
    "    def Widget_Data(self):\n",
    "        \n",
    "        \"\"\" Returning the string representation of the widget data \"\"\"\n",
    "        pass"
   ]
  },
  {
   "cell_type": "code",
   "execution_count": 30,
   "metadata": {},
   "outputs": [
    {
     "name": "stdout",
     "output_type": "stream",
     "text": [
      "Help on class Widget_Decorator in module __main__:\n",
      "\n",
      "class Widget_Decorator(BI_Widget)\n",
      " |  Widget_Decorator(widget)\n",
      " |  \n",
      " |  Method resolution order:\n",
      " |      Widget_Decorator\n",
      " |      BI_Widget\n",
      " |      builtins.object\n",
      " |  \n",
      " |  Methods defined here:\n",
      " |  \n",
      " |  Widget_Data(self)\n",
      " |      Returning the string representation of the widget data\n",
      " |  \n",
      " |  __init__(self, widget)\n",
      " |      parameter: widget\n",
      " |  \n",
      " |  ----------------------------------------------------------------------\n",
      " |  Data and other attributes defined here:\n",
      " |  \n",
      " |  __abstractmethods__ = frozenset({'Widget_Data'})\n",
      " |  \n",
      " |  ----------------------------------------------------------------------\n",
      " |  Data descriptors inherited from BI_Widget:\n",
      " |  \n",
      " |  __dict__\n",
      " |      dictionary for instance variables (if defined)\n",
      " |  \n",
      " |  __weakref__\n",
      " |      list of weak references to the object (if defined)\n",
      "\n"
     ]
    }
   ],
   "source": [
    "help(Widget_Decorator)"
   ]
  },
  {
   "cell_type": "code",
   "execution_count": 31,
   "metadata": {},
   "outputs": [],
   "source": [
    "\"\"\" Design Principle 4. Strive for loosely coupled designs between objects that interact \"\"\"\n",
    "\n",
    "\"\"\" Design Principle 6. Talk only to your immediate friends (Least Knowledge) \"\"\"\n",
    "\n",
    "\"\"\"Design Principle 7. Depend on abstractions. Do not depend on concrete classes (Dependency Inversion)\"\"\"\n",
    "\n",
    "\"\"\" Concrete decorator class for adding branding elements \"\"\"\n",
    "\n",
    "class Brand_Decorator(Widget_Decorator):\n",
    "    \n",
    "    def __init__(self, widget, client_company):\n",
    "        \n",
    "        \"\"\" Parameters: widget, client_company\"\"\"\n",
    "        \n",
    "        \"\"\"Initialize the branding decorator with a widget and a client company.\"\"\"\n",
    "        \n",
    "        super().__init__(widget)\n",
    "        self._client_company = client_company # refernce to the client\n",
    "\n",
    "\n",
    "    def Widget_Data(self):\n",
    "        \n",
    "        \"\"\" Obtain widget data and represent it with the company logo \"\"\"\n",
    "        \n",
    "        widget_data = self._widget.Widget_Data()\n",
    "        branding_elements = self._client_company.Company_Brand()\n",
    "        return f\"{widget_data} - {branding_elements}\""
   ]
  },
  {
   "cell_type": "code",
   "execution_count": 32,
   "metadata": {},
   "outputs": [
    {
     "name": "stdout",
     "output_type": "stream",
     "text": [
      "Help on class Brand_Decorator in module __main__:\n",
      "\n",
      "class Brand_Decorator(Widget_Decorator)\n",
      " |  Brand_Decorator(widget, client_company)\n",
      " |  \n",
      " |  Method resolution order:\n",
      " |      Brand_Decorator\n",
      " |      Widget_Decorator\n",
      " |      BI_Widget\n",
      " |      builtins.object\n",
      " |  \n",
      " |  Methods defined here:\n",
      " |  \n",
      " |  Widget_Data(self)\n",
      " |      Obtain widget data and represent it with the company logo\n",
      " |  \n",
      " |  __init__(self, widget, client_company)\n",
      " |      Parameters: widget, client_company\n",
      " |  \n",
      " |  ----------------------------------------------------------------------\n",
      " |  Data and other attributes defined here:\n",
      " |  \n",
      " |  __abstractmethods__ = frozenset()\n",
      " |  \n",
      " |  ----------------------------------------------------------------------\n",
      " |  Data descriptors inherited from BI_Widget:\n",
      " |  \n",
      " |  __dict__\n",
      " |      dictionary for instance variables (if defined)\n",
      " |  \n",
      " |  __weakref__\n",
      " |      list of weak references to the object (if defined)\n",
      "\n"
     ]
    }
   ],
   "source": [
    "help(Brand_Decorator)"
   ]
  },
  {
   "cell_type": "markdown",
   "metadata": {},
   "source": [
    "### Testing the Code"
   ]
  },
  {
   "cell_type": "code",
   "execution_count": 33,
   "metadata": {},
   "outputs": [
    {
     "name": "stdout",
     "output_type": "stream",
     "text": [
      "Widget Data - ABC BI Company Logo\n"
     ]
    }
   ],
   "source": [
    "# Example to show a single client\n",
    "\n",
    "# Creating a concrete instances of BI_Widget\n",
    "concrete_widget = Concrete_BI_Widget()\n",
    "\n",
    "# Creating different Client_Company implementation\n",
    "concrete_company = Concrete_Client_Company(\"ABC BI Company\")\n",
    "\n",
    "# Decorating the widget with branding elements for client company\n",
    "decorated_widget = Brand_Decorator(concrete_widget, concrete_company)\n",
    "\n",
    "# Getting the data from the decorated widgets\n",
    "result = decorated_widget.Widget_Data()\n",
    "\n",
    "# Printing the results\n",
    "print(result)  \n"
   ]
  },
  {
   "cell_type": "markdown",
   "metadata": {},
   "source": [
    "The above design pattern demonstrates for only one client, now i want to show you the beauty of the given decorator design pattern, that i may add several clients if i want to."
   ]
  },
  {
   "cell_type": "code",
   "execution_count": 34,
   "metadata": {},
   "outputs": [
    {
     "name": "stdout",
     "output_type": "stream",
     "text": [
      "Customized Widget for Client A:\n",
      "Widget Data - Client A Logo\n",
      "\n",
      "Customized Widget for Client B:\n",
      "Widget Data - Client B Logo\n"
     ]
    }
   ],
   "source": [
    "# Creating a concrete instances of BI_Widget\n",
    "concrete_widget = Concrete_BI_Widget()\n",
    "\n",
    "# Creating different Client_Company implementations\n",
    "company_client_1 = Concrete_Client_Company(\"Client A\")\n",
    "company_client_2 = Concrete_Client_Company(\"Client B\")\n",
    "\n",
    "# Decorating the widget with branding elements for different client companies\n",
    "decorated_widget_client_1 = Brand_Decorator(concrete_widget, company_client_1)\n",
    "decorated_widget_client_2 = Brand_Decorator(concrete_widget, company_client_2)\n",
    "\n",
    "# Getting the data from the decorated widgets\n",
    "result_client_1 = decorated_widget_client_1.Widget_Data()\n",
    "result_client_2 = decorated_widget_client_2.Widget_Data()\n",
    "\n",
    "# Showing widget data for different clients\n",
    "print(\"Customized Widget for Client A:\")\n",
    "print(result_client_1)  \n",
    "\n",
    "print(\"\\nCustomized Widget for Client B:\")\n",
    "print(result_client_2) \n"
   ]
  },
  {
   "cell_type": "markdown",
   "metadata": {},
   "source": [
    "### Conclusion"
   ]
  },
  {
   "cell_type": "markdown",
   "metadata": {},
   "source": [
    "For the customizable and consistent branding elements across all Business Intelligence  widgets for different client comapnies, i used Decorator Pattern.This pattern allows addition or changing of different behaviours of BI widgets based on the branding elements from different clients, without making any change to the existing code. The use of open/closed principle make the given design pattern scalable and maintainable by introducing new decorators and functionalities to the system. The design supports composition which make it safe from going into deep pool of inheritance. The design contain base classes and decorators with unique duties to perform, this made the code easier to read and understand for other programmers and clients. Since the requirement for the design pattern involves several client companies, so for that decorator pattern behaves well. The given design pattern, permits a versatile solution for creating customized BI widgets consistent to different client companies branding logos."
   ]
  },
  {
   "cell_type": "markdown",
   "metadata": {},
   "source": [
    "### Calling All Design Patterns"
   ]
  },
  {
   "cell_type": "code",
   "execution_count": 35,
   "metadata": {},
   "outputs": [
    {
     "name": "stdout",
     "output_type": "stream",
     "text": [
      "Widget A: Received data from the subject: <__main__.Dataset object at 0x000001ECC1C5E890> \n",
      "Widget Data - ABC Noroff BI Logo - Information: [1, 2, 3, 4, 5]\n"
     ]
    }
   ],
   "source": [
    "# Example contain all design pattern some behaviour\n",
    "\n",
    "# Creating an object with an statistical strategy and define a dataset\n",
    "dataset = Dataset(\"mean\", [1, 2, 3, 4, 5])\n",
    "\n",
    "# Creating an Widget instance \n",
    "widget = Concrete_BI_Widget()\n",
    "\n",
    "# Creating a client instance \n",
    "client_company = Concrete_Client_Company(\"ABC Noroff BI\")\n",
    "\n",
    "# Give me the branding information\n",
    "branded_widget = Brand_Decorator(widget, client_company)\n",
    "\n",
    "# Subscribe an Observer\n",
    "observer = Reporting_Widget(\"Widget A\")\n",
    "\n",
    "# Creating a Concrete Subject Object\n",
    "subject = Concrete_Subject()\n",
    "subject.Subscribe_Observer(observer)\n",
    "\n",
    "# Notifying the Observer about the dataset update\n",
    "subject.Notify_Observer(dataset)\n",
    "\n",
    "# Printing the branding information along with company logo and data\n",
    "print(f\"{branded_widget.Widget_Data()} - Information: {dataset.Get_Data()}\")\n"
   ]
  },
  {
   "cell_type": "markdown",
   "metadata": {},
   "source": [
    "<__main__.Dataset object at 0x0000019814160C50> is a string representaion of the recieving data."
   ]
  }
 ],
 "metadata": {
  "kernelspec": {
   "display_name": "Python 3 (ipykernel)",
   "language": "python",
   "name": "python3"
  },
  "language_info": {
   "codemirror_mode": {
    "name": "ipython",
    "version": 3
   },
   "file_extension": ".py",
   "mimetype": "text/x-python",
   "name": "python",
   "nbconvert_exporter": "python",
   "pygments_lexer": "ipython3",
   "version": "3.9.13"
  }
 },
 "nbformat": 4,
 "nbformat_minor": 2
}
